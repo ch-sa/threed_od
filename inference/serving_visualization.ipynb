{
 "cells": [
  {
   "cell_type": "code",
   "execution_count": 4,
   "metadata": {},
   "outputs": [],
   "source": [
    "import requests \n",
    "import open3d as o3d\n",
    "import os"
   ]
  },
  {
   "cell_type": "code",
   "execution_count": 5,
   "metadata": {},
   "outputs": [],
   "source": [
    "os.environ['http_proxy'] = \"http://proxy.robotron.de:80\" \n",
    "os.environ['https_proxy'] = \"https://proxy.robotron.de:80\" "
   ]
  },
  {
   "cell_type": "code",
   "execution_count": 6,
   "metadata": {},
   "outputs": [
    {
     "name": "stdout",
     "output_type": "stream",
     "text": [
      "b'[{\"id\":\"1\",\"name\":\"box3d\",\"type\":\"3d_detection\"}]'\n"
     ]
    }
   ],
   "source": [
    "url = \"https://rcv.westeurope.cloudapp.azure.com/3dodserving/api/models\"\n",
    "\n",
    "payload = {}\n",
    "files = {}\n",
    "headers = {\n",
    "  'Content-Type': 'multipart/form-data; boundary=--------------------------555221334256103757881987'\n",
    "}\n",
    "\n",
    "response = requests.request(\"GET\", url, headers=headers, data = payload, files = files)\n",
    "\n",
    "print(response.text.encode('utf8'))"
   ]
  },
  {
   "cell_type": "code",
   "execution_count": 12,
   "metadata": {},
   "outputs": [
    {
     "data": {
      "text/plain": [
       "[{'class_id': 0,\n",
       "  'coordinates': {'0': [0.3450233464789509,\n",
       "    0.01635452546924354,\n",
       "    1.9177392442230334],\n",
       "   '1': [0.543365186289017, 0.01635452546924354, 1.3817700181431343],\n",
       "   '2': [-0.12132008128882638, 0.01635452546924354, 1.1357952635284314],\n",
       "   '3': [-0.3196619210988924, 0.01635452546924354, 1.6717644896083306],\n",
       "   '4': [0.3450233464789509, -0.527928257368505, 1.9177392442230334],\n",
       "   '5': [0.543365186289017, -0.527928257368505, 1.3817700181431343],\n",
       "   '6': [-0.12132008128882638, -0.527928257368505, 1.1357952635284314],\n",
       "   '7': [-0.3196619210988924, -0.527928257368505, 1.6717644896083306]},\n",
       "  'probability': 0.9834211468696594}]"
      ]
     },
     "execution_count": 12,
     "metadata": {},
     "output_type": "execute_result"
    }
   ],
   "source": [
    "url = \"https://rcv.westeurope.cloudapp.azure.com/3dodserving/api/detect?model_id=1\"\n",
    "\n",
    "files = {'file': open('0005.ply','rb')}\n",
    "\n",
    "response = requests.post(url,  files = files)\n",
    "\n",
    "response.json()"
   ]
  },
  {
   "cell_type": "code",
   "execution_count": 13,
   "metadata": {},
   "outputs": [
    {
     "name": "stdout",
     "output_type": "stream",
     "text": [
      "class: 0\n",
      "confidence: 0.9834211468696594\n"
     ]
    }
   ],
   "source": [
    "print('class: ' + str(response.json()[0]['class_id']))\n",
    "print('confidence: ' + str(response.json()[0]['probability']))"
   ]
  },
  {
   "cell_type": "code",
   "execution_count": 35,
   "metadata": {},
   "outputs": [],
   "source": [
    "points = []\n",
    "for i in range(0,8):\n",
    "    points.append(response.json()[0]['coordinates'][str(i)])\n",
    "    i +=1\n",
    "\n",
    "lines = [\n",
    "        [0, 1],\n",
    "        [0, 3],\n",
    "        [1, 5],\n",
    "        [3, 7],\n",
    "        [4, 0],\n",
    "        [4, 5],\n",
    "        [5, 6],\n",
    "        [6, 7],\n",
    "        [2, 3],\n",
    "        [2, 6],\n",
    "        [2, 1],\n",
    "        [4, 7]\n",
    "        ]\n",
    "\n",
    "colors = [[1, 0, 0] for i in range(len(lines))]\n",
    "line_set = o3d.geometry.LineSet(\n",
    "    points=o3d.utility.Vector3dVector(points),\n",
    "    lines=o3d.utility.Vector2iVector(lines),\n",
    ")\n",
    "line_set.rotate(line_set.get_rotation_matrix_from_xyz([300,0,0]), center=False)\n",
    "line_set.colors = o3d.utility.Vector3dVector(colors)\n",
    "\n",
    "pcd = o3d.io.read_point_cloud('0005_cl.ply')\n",
    "o3d.visualization.draw_geometries([line_set, pcd])    "
   ]
  }
 ],
 "metadata": {
  "kernelspec": {
   "display_name": "Python 3",
   "language": "python",
   "name": "python3"
  },
  "language_info": {
   "codemirror_mode": {
    "name": "ipython",
    "version": 3
   },
   "file_extension": ".py",
   "mimetype": "text/x-python",
   "name": "python",
   "nbconvert_exporter": "python",
   "pygments_lexer": "ipython3",
   "version": "3.6.1"
  }
 },
 "nbformat": 4,
 "nbformat_minor": 2
}
