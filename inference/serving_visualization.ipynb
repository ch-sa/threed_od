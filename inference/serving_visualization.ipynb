{
 "cells": [
  {
   "cell_type": "code",
   "execution_count": 1,
   "metadata": {},
   "outputs": [],
   "source": [
    "import requests \n",
    "import open3d as o3d\n",
    "import os"
   ]
  },
  {
   "cell_type": "code",
   "execution_count": 5,
   "metadata": {},
   "outputs": [],
   "source": [
    "os.environ['http_proxy'] = \"http://proxy.robotron.de:80\" \n",
    "os.environ['https_proxy'] = \"https://proxy.robotron.de:80\" "
   ]
  },
  {
   "cell_type": "code",
   "execution_count": 6,
   "metadata": {},
   "outputs": [
    {
     "name": "stdout",
     "output_type": "stream",
     "text": [
      "b'[{\"id\":\"1\",\"name\":\"box3d\",\"type\":\"3d_detection\"}]'\n"
     ]
    }
   ],
   "source": [
    "url = \"https://rcv.westeurope.cloudapp.azure.com/3dodserving/api/models\"\n",
    "\n",
    "payload = {}\n",
    "files = {}\n",
    "headers = {\n",
    "  'Content-Type': 'multipart/form-data; boundary=--------------------------555221334256103757881987'\n",
    "}\n",
    "\n",
    "response = requests.request(\"GET\", url, headers=headers, data = payload, files = files)\n",
    "\n",
    "print(response.text.encode('utf8'))"
   ]
  },
  {
   "cell_type": "code",
   "execution_count": 6,
   "metadata": {},
   "outputs": [
    {
     "data": {
      "text/plain": [
       "[{'class': 'box',\n",
       "  'confidence': 0.9892852902412415,\n",
       "  'coordinates': {'0': [0.3100882275297897,\n",
       "    1.9325232134099077,\n",
       "    -0.08131351548609847],\n",
       "   '1': [0.5125316754284144, 1.3815603723767127, -0.06913612611849415],\n",
       "   '2': [-0.17065788342502283, 1.1306546676927653, -0.06359060429208575],\n",
       "   '3': [-0.3731013313236475, 1.6816175087259604, -0.07576799365969006],\n",
       "   '4': [0.3100882275297897, 1.944366604004498, 0.4545376372100998],\n",
       "   '5': [0.5125316754284144, 1.393403762971303, 0.46671502657770414],\n",
       "   '6': [-0.17065788342502283, 1.1424980582873556, 0.4722605484041125],\n",
       "   '7': [-0.3731013313236475, 1.6934608993205507, 0.4600831590365082]}}]"
      ]
     },
     "execution_count": 6,
     "metadata": {},
     "output_type": "execute_result"
    }
   ],
   "source": [
    "url = \"http://localhost:8080/api/detect?model_id=1\"\n",
    "\n",
    "files = {'file': open('0005.ply','rb')}\n",
    "\n",
    "response = requests.post(url,  files = files)\n",
    "\n",
    "response.json()"
   ]
  },
  {
   "cell_type": "code",
   "execution_count": 7,
   "metadata": {},
   "outputs": [
    {
     "ename": "KeyError",
     "evalue": "'class_id'",
     "output_type": "error",
     "traceback": [
      "\u001b[0;31m---------------------------------------------------------------------------\u001b[0m",
      "\u001b[0;31mKeyError\u001b[0m                                  Traceback (most recent call last)",
      "\u001b[0;32m<ipython-input-7-5fc9fb9ac9aa>\u001b[0m in \u001b[0;36m<module>\u001b[0;34m\u001b[0m\n\u001b[0;32m----> 1\u001b[0;31m \u001b[0mprint\u001b[0m\u001b[0;34m(\u001b[0m\u001b[0;34m'class: '\u001b[0m \u001b[0;34m+\u001b[0m \u001b[0mstr\u001b[0m\u001b[0;34m(\u001b[0m\u001b[0mresponse\u001b[0m\u001b[0;34m.\u001b[0m\u001b[0mjson\u001b[0m\u001b[0;34m(\u001b[0m\u001b[0;34m)\u001b[0m\u001b[0;34m[\u001b[0m\u001b[0;36m0\u001b[0m\u001b[0;34m]\u001b[0m\u001b[0;34m[\u001b[0m\u001b[0;34m'class_id'\u001b[0m\u001b[0;34m]\u001b[0m\u001b[0;34m)\u001b[0m\u001b[0;34m)\u001b[0m\u001b[0;34m\u001b[0m\u001b[0;34m\u001b[0m\u001b[0m\n\u001b[0m\u001b[1;32m      2\u001b[0m \u001b[0mprint\u001b[0m\u001b[0;34m(\u001b[0m\u001b[0;34m'confidence: '\u001b[0m \u001b[0;34m+\u001b[0m \u001b[0mstr\u001b[0m\u001b[0;34m(\u001b[0m\u001b[0mresponse\u001b[0m\u001b[0;34m.\u001b[0m\u001b[0mjson\u001b[0m\u001b[0;34m(\u001b[0m\u001b[0;34m)\u001b[0m\u001b[0;34m[\u001b[0m\u001b[0;36m0\u001b[0m\u001b[0;34m]\u001b[0m\u001b[0;34m[\u001b[0m\u001b[0;34m'probability'\u001b[0m\u001b[0;34m]\u001b[0m\u001b[0;34m)\u001b[0m\u001b[0;34m)\u001b[0m\u001b[0;34m\u001b[0m\u001b[0;34m\u001b[0m\u001b[0m\n",
      "\u001b[0;31mKeyError\u001b[0m: 'class_id'"
     ]
    }
   ],
   "source": [
    "print('class: ' + str(response.json()[0]['class_id']))\n",
    "print('confidence: ' + str(response.json()[0]['probability']))"
   ]
  },
  {
   "cell_type": "code",
   "execution_count": 8,
   "metadata": {},
   "outputs": [],
   "source": [
    "points = []\n",
    "for i in range(0,8):\n",
    "    points.append(response.json()[0]['coordinates'][str(i)])\n",
    "    i +=1\n",
    "\n",
    "lines = [\n",
    "        [0, 1],\n",
    "        [0, 3],\n",
    "        [1, 5],\n",
    "        [3, 7],\n",
    "        [4, 0],\n",
    "        [4, 5],\n",
    "        [5, 6],\n",
    "        [6, 7],\n",
    "        [2, 3],\n",
    "        [2, 6],\n",
    "        [2, 1],\n",
    "        [4, 7]\n",
    "        ]\n",
    "\n",
    "colors = [[1, 0, 0] for i in range(len(lines))]\n",
    "line_set = o3d.geometry.LineSet(\n",
    "    points=o3d.utility.Vector3dVector(points),\n",
    "    lines=o3d.utility.Vector2iVector(lines),\n",
    ")\n",
    "line_set.colors = o3d.utility.Vector3dVector(colors)\n",
    "\n",
    "pcd = o3d.io.read_point_cloud('0005_cl.ply')\n",
    "o3d.visualization.draw_geometries([line_set, pcd])    "
   ]
  }
 ],
 "metadata": {
  "kernelspec": {
   "display_name": "Python 3",
   "language": "python",
   "name": "python3"
  },
  "language_info": {
   "codemirror_mode": {
    "name": "ipython",
    "version": 3
   },
   "file_extension": ".py",
   "mimetype": "text/x-python",
   "name": "python",
   "nbconvert_exporter": "python",
   "pygments_lexer": "ipython3",
   "version": "3.6.9"
  }
 },
 "nbformat": 4,
 "nbformat_minor": 2
}
